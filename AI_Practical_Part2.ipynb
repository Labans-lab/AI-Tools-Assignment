{
  "cells": [
    {
      "cell_type": "markdown",
      "metadata": {
        "id": "view-in-github",
        "colab_type": "text"
      },
      "source": [
        "<a href=\"https://colab.research.google.com/github/Labans-lab/AI-Tools-Assignment/blob/main/AI_Practical_Part2.ipynb\" target=\"_parent\"><img src=\"https://colab.research.google.com/assets/colab-badge.svg\" alt=\"Open In Colab\"/></a>"
      ]
    },
    {
      "cell_type": "markdown",
      "metadata": {
        "id": "SyWQrEEQy3zr"
      },
      "source": [
        "# 📘 AI Practical Implementation (50%)\n",
        "**Author:** [Your Name]  \n",
        "**Course:** AI Fundamentals\n",
        "\n",
        "This notebook covers three tasks:\n",
        "- **Task 1:** Classical ML with Scikit-learn (Iris Dataset)\n",
        "- **Task 2:** Deep Learning with TensorFlow (MNIST Dataset)\n",
        "- **Task 3:** NLP with spaCy (Amazon Reviews)\n"
      ],
      "id": "SyWQrEEQy3zr"
    },
    {
      "cell_type": "code",
      "metadata": {
        "colab": {
          "base_uri": "https://localhost:8080/"
        },
        "id": "p3bSQqRky3zw",
        "outputId": "4d2d78d1-9045-490a-8e64-e62d64cddb23"
      },
      "source": [
        "# ================================================================\n",
        "# 🔹 Task 1: Classical ML with Scikit-learn (Iris Dataset)\n",
        "# ================================================================\n",
        "import pandas as pd\n",
        "from sklearn.datasets import load_iris\n",
        "from sklearn.model_selection import train_test_split\n",
        "from sklearn.tree import DecisionTreeClassifier\n",
        "from sklearn.metrics import accuracy_score, precision_score, recall_score, classification_report\n",
        "\n",
        "iris = load_iris()\n",
        "df = pd.DataFrame(data=iris.data, columns=iris.feature_names)\n",
        "df['species'] = iris.target\n",
        "\n",
        "print('Missing values before handling:\\n', df.isnull().sum())\n",
        "df.fillna(df.mean(), inplace=True)\n",
        "\n",
        "X = df.drop('species', axis=1)\n",
        "y = df['species']\n",
        "\n",
        "X_train, X_test, y_train, y_test = train_test_split(X, y, test_size=0.2, random_state=42)\n",
        "\n",
        "clf = DecisionTreeClassifier(random_state=42)\n",
        "clf.fit(X_train, y_train)\n",
        "y_pred = clf.predict(X_test)\n",
        "\n",
        "print('\\n--- Evaluation Metrics ---')\n",
        "print('Accuracy:', accuracy_score(y_test, y_pred))\n",
        "print('Precision:', precision_score(y_test, y_pred, average=\"weighted\"))\n",
        "print('Recall:', recall_score(y_test, y_pred, average=\"weighted\"))\n",
        "print('\\nClassification Report:\\n', classification_report(y_test, y_pred))"
      ],
      "id": "p3bSQqRky3zw",
      "execution_count": 1,
      "outputs": [
        {
          "output_type": "stream",
          "name": "stdout",
          "text": [
            "Missing values before handling:\n",
            " sepal length (cm)    0\n",
            "sepal width (cm)     0\n",
            "petal length (cm)    0\n",
            "petal width (cm)     0\n",
            "species              0\n",
            "dtype: int64\n",
            "\n",
            "--- Evaluation Metrics ---\n",
            "Accuracy: 1.0\n",
            "Precision: 1.0\n",
            "Recall: 1.0\n",
            "\n",
            "Classification Report:\n",
            "               precision    recall  f1-score   support\n",
            "\n",
            "           0       1.00      1.00      1.00        10\n",
            "           1       1.00      1.00      1.00         9\n",
            "           2       1.00      1.00      1.00        11\n",
            "\n",
            "    accuracy                           1.00        30\n",
            "   macro avg       1.00      1.00      1.00        30\n",
            "weighted avg       1.00      1.00      1.00        30\n",
            "\n"
          ]
        }
      ]
    },
    {
      "cell_type": "code",
      "metadata": {
        "colab": {
          "base_uri": "https://localhost:8080/",
          "height": 545
        },
        "id": "wcBv-f-qy3zz",
        "outputId": "2cdb380f-9604-4191-ae1a-2d6c6c249641"
      },
      "source": [
        "# ================================================================\n",
        "# 🔹 Task 2: Deep Learning with TensorFlow (MNIST Dataset)\n",
        "# ================================================================\n",
        "import tensorflow as tf\n",
        "from tensorflow.keras import datasets, layers, models\n",
        "import matplotlib.pyplot as plt\n",
        "import numpy as np\n",
        "\n",
        "(x_train, y_train), (x_test, y_test) = datasets.mnist.load_data()\n",
        "x_train, x_test = x_train / 255.0, x_test / 255.0\n",
        "x_train = x_train.reshape(-1, 28, 28, 1)\n",
        "x_test = x_test.reshape(-1, 28, 28, 1)\n",
        "\n",
        "model = models.Sequential([\n",
        "    layers.Conv2D(32, (3,3), activation='relu', input_shape=(28,28,1)),\n",
        "    layers.MaxPooling2D((2,2)),\n",
        "    layers.Conv2D(64, (3,3), activation='relu'),\n",
        "    layers.MaxPooling2D((2,2)),\n",
        "    layers.Flatten(),\n",
        "    layers.Dense(64, activation='relu'),\n",
        "    layers.Dense(10, activation='softmax')\n",
        "])\n",
        "\n",
        "model.compile(optimizer='adam',\n",
        "              loss='sparse_categorical_crossentropy',\n",
        "              metrics=['accuracy'])\n",
        "\n",
        "history = model.fit(x_train, y_train, epochs=5, validation_data=(x_test, y_test))\n",
        "\n",
        "test_loss, test_acc = model.evaluate(x_test, y_test)\n",
        "print(f'\\n Test Accuracy: {test_acc*100:.2f}%')\n",
        "\n",
        "indices = np.random.choice(len(x_test), 5)\n",
        "sample_images = x_test[indices]\n",
        "sample_labels = y_test[indices]\n",
        "predictions = model.predict(sample_images)\n",
        "\n",
        "plt.figure(figsize=(10, 3))\n",
        "for i in range(5):\n",
        "    plt.subplot(1, 5, i+1)\n",
        "    plt.imshow(sample_images[i].reshape(28,28), cmap='gray')\n",
        "    plt.title(f'True: {sample_labels[i]}\\nPred: {np.argmax(predictions[i])}')\n",
        "    plt.axis('off')\n",
        "plt.show()"
      ],
      "id": "wcBv-f-qy3zz",
      "execution_count": 1,
      "outputs": [
        {
          "output_type": "stream",
          "name": "stdout",
          "text": [
            "Downloading data from https://storage.googleapis.com/tensorflow/tf-keras-datasets/mnist.npz\n",
            "\u001b[1m11490434/11490434\u001b[0m \u001b[32m━━━━━━━━━━━━━━━━━━━━\u001b[0m\u001b[37m\u001b[0m \u001b[1m0s\u001b[0m 0us/step\n"
          ]
        },
        {
          "output_type": "stream",
          "name": "stderr",
          "text": [
            "/usr/local/lib/python3.12/dist-packages/keras/src/layers/convolutional/base_conv.py:113: UserWarning: Do not pass an `input_shape`/`input_dim` argument to a layer. When using Sequential models, prefer using an `Input(shape)` object as the first layer in the model instead.\n",
            "  super().__init__(activity_regularizer=activity_regularizer, **kwargs)\n"
          ]
        },
        {
          "output_type": "stream",
          "name": "stdout",
          "text": [
            "Epoch 1/5\n",
            "\u001b[1m1875/1875\u001b[0m \u001b[32m━━━━━━━━━━━━━━━━━━━━\u001b[0m\u001b[37m\u001b[0m \u001b[1m53s\u001b[0m 27ms/step - accuracy: 0.8960 - loss: 0.3435 - val_accuracy: 0.9854 - val_loss: 0.0468\n",
            "Epoch 2/5\n",
            "\u001b[1m1875/1875\u001b[0m \u001b[32m━━━━━━━━━━━━━━━━━━━━\u001b[0m\u001b[37m\u001b[0m \u001b[1m50s\u001b[0m 26ms/step - accuracy: 0.9836 - loss: 0.0500 - val_accuracy: 0.9892 - val_loss: 0.0332\n",
            "Epoch 3/5\n",
            "\u001b[1m1875/1875\u001b[0m \u001b[32m━━━━━━━━━━━━━━━━━━━━\u001b[0m\u001b[37m\u001b[0m \u001b[1m83s\u001b[0m 27ms/step - accuracy: 0.9897 - loss: 0.0321 - val_accuracy: 0.9899 - val_loss: 0.0293\n",
            "Epoch 4/5\n",
            "\u001b[1m1875/1875\u001b[0m \u001b[32m━━━━━━━━━━━━━━━━━━━━\u001b[0m\u001b[37m\u001b[0m \u001b[1m49s\u001b[0m 26ms/step - accuracy: 0.9928 - loss: 0.0239 - val_accuracy: 0.9909 - val_loss: 0.0283\n",
            "Epoch 5/5\n",
            "\u001b[1m1875/1875\u001b[0m \u001b[32m━━━━━━━━━━━━━━━━━━━━\u001b[0m\u001b[37m\u001b[0m \u001b[1m82s\u001b[0m 26ms/step - accuracy: 0.9949 - loss: 0.0162 - val_accuracy: 0.9898 - val_loss: 0.0316\n",
            "\u001b[1m313/313\u001b[0m \u001b[32m━━━━━━━━━━━━━━━━━━━━\u001b[0m\u001b[37m\u001b[0m \u001b[1m4s\u001b[0m 11ms/step - accuracy: 0.9851 - loss: 0.0418\n",
            "\n",
            " Test Accuracy: 98.98%\n",
            "\u001b[1m1/1\u001b[0m \u001b[32m━━━━━━━━━━━━━━━━━━━━\u001b[0m\u001b[37m\u001b[0m \u001b[1m0s\u001b[0m 95ms/step\n"
          ]
        },
        {
          "output_type": "display_data",
          "data": {
            "text/plain": [
              "<Figure size 1000x300 with 5 Axes>"
            ],
            "image/png": "[encoded data removed]"
          },
          "metadata": {}
        }
      ]
    },
    {
      "cell_type": "code",
      "metadata": {
        "colab": {
          "base_uri": "https://localhost:8080/"
        },
        "id": "Mb_y49BCy3zz",
        "outputId": "fdfd78a5-f698-481c-b4a3-29a8b179c60a"
      },
      "source": [
        "# ================================================================\n",
        "#  Task 3: NLP with spaCy (Amazon Reviews)\n",
        "# ================================================================\n",
        "!pip install -q spacy\n",
        "!python -m spacy download en_core_web_sm\n",
        "\n",
        "import spacy\n",
        "nlp = spacy.load('en_core_web_sm')\n",
        "\n",
        "reviews = [\n",
        "    'I love my new Samsung Galaxy phone! The camera is amazing.',\n",
        "    'The Apple MacBook is overpriced but the performance is great.',\n",
        "    'My Sony headphones stopped working after 2 weeks.',\n",
        "]\n",
        "\n",
        "for review in reviews:\n",
        "    doc = nlp(review)\n",
        "    print(f'\\n Review: {review}')\n",
        "    print(' Entities (NER):')\n",
        "    for ent in doc.ents:\n",
        "        print(f' - {ent.text} ({ent.label_})')\n",
        "\n",
        "    positive_words = ['love', 'great', 'amazing', 'good', 'excellent']\n",
        "    negative_words = ['bad', 'poor', 'overpriced', 'stopped', 'broken']\n",
        "    review_lower = review.lower()\n",
        "\n",
        "    sentiment = 'Positive' if any(w in review_lower for w in positive_words) else \\\n",
        "                'Negative' if any(w in review_lower for w in negative_words) else 'Neutral'\n",
        "\n",
        "    print(f' Sentiment: {sentiment}')"
      ],
      "id": "Mb_y49BCy3zz",
      "execution_count": 2,
      "outputs": [
        {
          "output_type": "stream",
          "name": "stdout",
          "text": [
            "Collecting en-core-web-sm==3.8.0\n",
            "  Downloading https://github.com/explosion/spacy-models/releases/download/en_core_web_sm-3.8.0/en_core_web_sm-3.8.0-py3-none-any.whl (12.8 MB)\n",
            "\u001b[2K     \u001b[90m━━━━━━━━━━━━━━━━━━━━━━━━━━━━━━━━━━━━━━━━\u001b[0m \u001b[32m12.8/12.8 MB\u001b[0m \u001b[31m46.4 MB/s\u001b[0m eta \u001b[36m0:00:00\u001b[0m\n",
            "\u001b[?25h\u001b[38;5;2m✔ Download and installation successful\u001b[0m\n",
            "You can now load the package via spacy.load('en_core_web_sm')\n",
            "\u001b[38;5;3m⚠ Restart to reload dependencies\u001b[0m\n",
            "If you are in a Jupyter or Colab notebook, you may need to restart Python in\n",
            "order to load all the package's dependencies. You can do this by selecting the\n",
            "'Restart kernel' or 'Restart runtime' option.\n",
            "\n",
            " Review: I love my new Samsung Galaxy phone! The camera is amazing.\n",
            " Entities (NER):\n",
            " - Samsung Galaxy (ORG)\n",
            " Sentiment: Positive\n",
            "\n",
            " Review: The Apple MacBook is overpriced but the performance is great.\n",
            " Entities (NER):\n",
            " - The Apple MacBook (ORG)\n",
            " Sentiment: Positive\n",
            "\n",
            " Review: My Sony headphones stopped working after 2 weeks.\n",
            " Entities (NER):\n",
            " - Sony (ORG)\n",
            " - 2 weeks (DATE)\n",
            " Sentiment: Negative\n"
          ]
        }
      ]
    }
  ],
  "metadata": {
    "kernelspec": {
      "display_name": "Python 3",
      "language": "python",
      "name": "python3"
    },
    "language_info": {
      "name": "python",
      "version": "3.x"
    },
    "colab": {
      "provenance": [],
      "include_colab_link": true
    }
  },
  "nbformat": 4,
  "nbformat_minor": 5
}